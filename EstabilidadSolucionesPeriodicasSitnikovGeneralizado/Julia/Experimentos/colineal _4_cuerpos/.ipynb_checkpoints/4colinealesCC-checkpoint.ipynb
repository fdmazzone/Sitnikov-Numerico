{
 "cells": [
  {
   "cell_type": "code",
   "execution_count": 1,
   "metadata": {
    "collapsed": true
   },
   "outputs": [],
   "source": [
    "from sympy import*\n",
    "init_printing()\n"
   ]
  },
  {
   "cell_type": "code",
   "execution_count": 2,
   "metadata": {
    "collapsed": true
   },
   "outputs": [],
   "source": [
    "m1,m2,r1,r2,alpha,lam=symbols('m_1,m_2,r_1,r_2,alpha,lambda',positive=true)"
   ]
  },
  {
   "cell_type": "markdown",
   "metadata": {},
   "source": []
  },
  {
   "cell_type": "code",
   "execution_count": 3,
   "metadata": {
    "collapsed": false
   },
   "outputs": [
    {
     "data": {
      "image/png": "[encoded data removed]",
      "text/latex": [
       "$$\\left ( - \\frac{m_{1}}{4 r_{1}^{2}} - \\frac{m_{2}}{\\left(r_{1} + r_{2}\\right)^{2}} + \\frac{m_{2}}{\\left(- r_{1} + r_{2}\\right)^{2}} = - \\lambda r_{1}, \\quad - \\frac{m_{1}}{\\left(r_{1} + r_{2}\\right)^{2}} - \\frac{m_{1}}{\\left(- r_{1} + r_{2}\\right)^{2}} - \\frac{m_{2}}{4 r_{2}^{2}} = - \\lambda r_{2}\\right )$$"
      ],
      "text/plain": [
       "⎛    m₁        m₂            m₂                    m₁            m₁         m₂\n",
       "⎜- ───── - ────────── + ─────────── = -λ⋅r₁, - ────────── - ─────────── - ────\n",
       "⎜      2            2             2                     2             2       \n",
       "⎝  4⋅r₁    (r₁ + r₂)    (-r₁ + r₂)             (r₁ + r₂)    (-r₁ + r₂)    4⋅r₂\n",
       "\n",
       "         ⎞\n",
       "─ = -λ⋅r₂⎟\n",
       "2        ⎟\n",
       "         ⎠"
      ]
     },
     "execution_count": 3,
     "metadata": {},
     "output_type": "execute_result"
    }
   ],
   "source": [
    "#ecuaciones de configuracion central para la masa m1 y m2\n",
    "eq1=Eq(m2/(r2-r1)**2-m1/4/r1**2-m2/(r2+r1)**2,-lam*r1)\n",
    "eq2=Eq(-m1/(r2-r1)**2-m2/4/r2**2-m1/(r2+r1)**2,-lam*r2)\n",
    "eq1, eq2"
   ]
  },
  {
   "cell_type": "code",
   "execution_count": 4,
   "metadata": {
    "collapsed": false
   },
   "outputs": [
    {
     "data": {
      "image/png": "[encoded data removed]",
      "text/latex": [
       "$$\\left ( - \\frac{m_{2}}{\\left(\\alpha + 1\\right)^{2}} + \\frac{m_{2}}{\\left(- \\alpha + 1\\right)^{2}} - \\frac{m_{1}}{4 \\alpha^{2}} = - \\alpha, \\quad - \\frac{m_{1}}{\\left(\\alpha + 1\\right)^{2}} - \\frac{m_{1}}{\\left(- \\alpha + 1\\right)^{2}} - \\frac{m_{2}}{4} = -1\\right )$$"
      ],
      "text/plain": [
       "⎛     m₂          m₂       m₁             m₁          m₁      m₂     ⎞\n",
       "⎜- ──────── + ───────── - ──── = -α, - ──────── - ───────── - ── = -1⎟\n",
       "⎜         2           2      2                2           2   4      ⎟\n",
       "⎝  (α + 1)    (-α + 1)    4⋅α          (α + 1)    (-α + 1)           ⎠"
      ]
     },
     "execution_count": 4,
     "metadata": {},
     "output_type": "execute_result"
    }
   ],
   "source": [
    "#asumimos r1=1, r2=alpha y lambda=1\n",
    "eq1=eq1.subs(r1,alpha).subs(r2,1).subs(lam,1)\n",
    "eq2=eq2.subs(r1,alpha).subs(r2,1).subs(lam,1)\n",
    "eq1, eq2"
   ]
  },
  {
   "cell_type": "code",
   "execution_count": 5,
   "metadata": {
    "collapsed": false
   },
   "outputs": [
    {
     "data": {
      "image/png": "[encoded data removed]",
      "text/latex": [
       "$$\\left \\{ m_{1} : \\frac{4 \\alpha^{3} \\left(\\alpha^{4} - 2 \\alpha^{2} + 1\\right) \\left(\\alpha^{4} - 2 \\alpha^{2} + 17\\right)}{128 \\alpha^{3} \\left(\\alpha^{2} + 1\\right) + \\left(\\alpha^{4} - 2 \\alpha^{2} + 1\\right)^{2}}, \\quad m_{2} : \\frac{4 \\left(\\alpha^{4} - 2 \\alpha^{2} + 1\\right) \\left(\\alpha^{4} - 8 \\alpha^{3} \\left(\\alpha^{2} + 1\\right) - 2 \\alpha^{2} + 1\\right)}{128 \\alpha^{3} \\left(\\alpha^{2} + 1\\right) + \\left(\\alpha^{4} - 2 \\alpha^{2} + 1\\right)^{2}}\\right \\}$$"
      ],
      "text/plain": [
       "⎧       3 ⎛ 4      2    ⎞ ⎛ 4      2     ⎞        ⎛ 4      2    ⎞ ⎛ 4      3 ⎛\n",
       "⎪    4⋅α ⋅⎝α  - 2⋅α  + 1⎠⋅⎝α  - 2⋅α  + 17⎠      4⋅⎝α  - 2⋅α  + 1⎠⋅⎝α  - 8⋅α ⋅⎝\n",
       "⎪m₁: ─────────────────────────────────────, m₂: ──────────────────────────────\n",
       "⎨                                       2                                     \n",
       "⎪           3 ⎛ 2    ⎞   ⎛ 4      2    ⎞                     3 ⎛ 2    ⎞   ⎛ 4 \n",
       "⎪      128⋅α ⋅⎝α  + 1⎠ + ⎝α  - 2⋅α  + 1⎠                128⋅α ⋅⎝α  + 1⎠ + ⎝α  \n",
       "⎩                                                                             \n",
       "\n",
       " 2    ⎞      2    ⎞⎫\n",
       "α  + 1⎠ - 2⋅α  + 1⎠⎪\n",
       "───────────────────⎪\n",
       "           2       ⎬\n",
       "     2    ⎞        ⎪\n",
       "- 2⋅α  + 1⎠        ⎪\n",
       "                   ⎭"
      ]
     },
     "execution_count": 5,
     "metadata": {},
     "output_type": "execute_result"
    }
   ],
   "source": [
    "#resolvemos\n",
    "sol=solve([eq1,eq2],[m1,m2])\n",
    "sol"
   ]
  },
  {
   "cell_type": "code",
   "execution_count": 7,
   "metadata": {},
   "outputs": [
    {
     "name": "stdout",
     "output_type": "stream",
     "text": [
      "4*(alpha**4 - 2*alpha**2 + 1)*(alpha**4 - 8*alpha**3*(alpha**2 + 1) - 2*alpha**2 + 1)/(128*alpha**3*(alpha**2 + 1) + (alpha**4 - 2*alpha**2 + 1)**2)\n"
     ]
    }
   ],
   "source": [
    "print(sol[m2])"
   ]
  },
  {
   "cell_type": "code",
   "execution_count": 17,
   "metadata": {
    "collapsed": false
   },
   "outputs": [
    {
     "data": {
      "image/png": "[encoded data removed]",
      "text/latex": [
       "$$- 8.0 \\alpha^{5} + \\alpha^{4} - 8.0 \\alpha^{3} - 2 \\alpha^{2} + 1 = 0$$"
      ],
      "text/plain": [
       "       5    4        3      2        \n",
       "- 8.0⋅α  + α  - 8.0⋅α  - 2⋅α  + 1 = 0"
      ]
     },
     "execution_count": 17,
     "metadata": {},
     "output_type": "execute_result"
    }
   ],
   "source": [
    "#el denominador de m1 y m2 es siempre positivo\n",
    "#el numerador de m1 es siempre positivo\n",
    "#analizamos cuando es positivo el numerador de m2\n",
    "#que es lo mismo que analizar cuando es positivo el término -8a^2+a(a^4-2a^2+1)-8\n",
    "\n",
    "eq=Eq(alpha**4 - 8.0*alpha**3*(alpha**2 + 1) - 2*alpha**2 + 1)\n",
    "eq.expand()"
   ]
  },
  {
   "cell_type": "code",
   "execution_count": 7,
   "metadata": {
    "collapsed": true
   },
   "outputs": [],
   "source": [
    "#la ecuacion anterior tiene dos cambio de signo asi que tendria que tener solo una raiz positiva o tres raices positivas"
   ]
  },
  {
   "cell_type": "code",
   "execution_count": null,
   "metadata": {
    "collapsed": false
   },
   "outputs": [],
   "source": []
  },
  {
   "cell_type": "code",
   "execution_count": 18,
   "metadata": {
    "collapsed": false
   },
   "outputs": [
    {
     "data": {
      "image/png": "[encoded data removed]",
      "text/latex": [
       "$$\\left \\{ 0.417220824736089 : 1, \\quad -0.355511332321157 - 0.362605408575659 i : 1, \\quad -0.355511332321157 + 0.362605408575659 i : 1, \\quad 0.209400919953113 - 1.05734501401122 i : 1, \\quad 0.209400919953113 + 1.05734501401122 i : 1\\right \\}$$"
      ],
      "text/plain": [
       "{0.417220824736089: 1, -0.355511332321157 - 0.362605408575659⋅ⅈ: 1, -0.3555113\n",
       "32321157 + 0.362605408575659⋅ⅈ: 1, 0.209400919953113 - 1.05734501401122⋅ⅈ: 1, \n",
       "0.209400919953113 + 1.05734501401122⋅ⅈ: 1}"
      ]
     },
     "execution_count": 18,
     "metadata": {},
     "output_type": "execute_result"
    }
   ],
   "source": [
    "roots(poly(eq.lhs,alpha))"
   ]
  },
  {
   "cell_type": "code",
   "execution_count": 10,
   "metadata": {
    "collapsed": false
   },
   "outputs": [],
   "source": []
  },
  {
   "cell_type": "code",
   "execution_count": null,
   "metadata": {},
   "outputs": [],
   "source": []
  }
 ],
 "metadata": {
  "kernelspec": {
   "display_name": "Python 2",
   "language": "python",
   "name": "python2"
  },
  "language_info": {
   "codemirror_mode": {
    "name": "ipython",
    "version": 2
   },
   "file_extension": ".py",
   "mimetype": "text/x-python",
   "name": "python",
   "nbconvert_exporter": "python",
   "pygments_lexer": "ipython2",
   "version": "2.7.14"
  }
 },
 "nbformat": 4,
 "nbformat_minor": 2
}
