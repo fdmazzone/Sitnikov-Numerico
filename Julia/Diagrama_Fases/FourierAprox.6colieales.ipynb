{
 "cells": [
  {
   "cell_type": "code",
   "execution_count": null,
   "metadata": {},
   "outputs": [],
   "source": []
  },
  {
   "cell_type": "markdown",
   "metadata": {},
   "source": [
    "<h1> [Análisis de Fourier]\n",
    "\n",
    "(https://es.wikipedia.org/wiki/Transformada_de_Fourier_discreta) aplicado a soluciones del problema de Sitnikov romboidal <h1>\n",
    "\n",
    "<h2> Requisitos (INICIO) <h2>\n"
   ]
  },
  {
   "cell_type": "markdown",
   "metadata": {},
   "source": [
    "\n",
    "Cargamos el módulo de ecuaciones diferenciales, interpolaciones , pyplot, etc La funcoón que me resuuelve el problema de los dos cuerpos y un filtro de baja frecuencia"
   ]
  },
  {
   "cell_type": "code",
   "execution_count": 3,
   "metadata": {},
   "outputs": [],
   "source": [
    "using DifferentialEquations, JLD, Interpolations, PyPlot, QuadGK\n",
    "\n"
   ]
  },
  {
   "cell_type": "markdown",
   "metadata": {},
   "source": [
    "<h4> Solve2body (Func_r) <h4>"
   ]
  },
  {
   "cell_type": "code",
   "execution_count": 2,
   "metadata": {},
   "outputs": [
    {
     "data": {
      "text/plain": [
       "solkepler (generic function with 1 method)"
      ]
     },
     "execution_count": 2,
     "metadata": {},
     "output_type": "execute_result"
    }
   ],
   "source": [
    "# Solve kepler equation  E=M-e*sen(E) by fixed point iteration\n",
    "# solkepler(M::Array{Float64},e::Float64,tol::Float64)\n",
    "# M: mean anomaly Array{Float64}\n",
    "# e: excentricity Float64\n",
    "# tol: tolerance, a difference less that tol finished iteration\n",
    "\n",
    "\n",
    "#include(\"SolKepler.jl\")\n",
    "#using Interpolations\n",
    "\n",
    "function Func_r(e::Float64)\n",
    "\t@assert((0<=e && e<1),\"Range excentricity is [0,1)\")\n",
    "\tdist_peri=1;\n",
    "\ta=dist_peri/(1-e);\n",
    "\tn=a^(-1.5);\n",
    "\tT=2*pi/n;\n",
    "\tt=Array(0:.01:T);\n",
    "\tM=n*t\n",
    "\tE=solkepler(M,e,.0001);\n",
    "\tx=a*(cos.(E)-e);\n",
    "\ty=a*sqrt(1-e^2)*sin.(E);\n",
    "\tt=0:.01:T;\n",
    "\tsol_x_a = interpolate(x, BSpline(Cubic(Line())), OnGrid())\n",
    "\tsol_x=scale(sol_x_a,t)\n",
    "\tsol_y_a = interpolate(y, BSpline(Cubic(Line())), OnGrid())\n",
    "\tsol_y=scale(sol_y_a,t)\n",
    "\tr(t)=sqrt(sol_x[t-floor(t/T)*T]^2+sol_y[t-floor(t/T)*T]^2)\n",
    "\treturn r,T,sol_x,sol_y\n",
    "end\n",
    "\n",
    "function solkepler(M::Array{Float64},e::Float64,tol::Float64)\n",
    "\n",
    "\"\"\"\n",
    "Solve kepler equation  E=M-e*sen(E) by fixed point iteration\n",
    "solkepler(M::Array{Float64},e::Float64,tol::Float64)\n",
    "M: mean anomaly Array{Float64}\n",
    "e: excentricity Float64\n",
    "tol: tolerance, a difference less that tol finished iteration\n",
    "\"\"\"\n",
    "\n",
    "@assert((0<=e && e<1),\"Range excentricity is [0,1)\")\n",
    "filtro=1:length(M);\n",
    "delta=tol+1\n",
    "E=deepcopy(M);\n",
    "\n",
    "while delta>tol \n",
    "    E1=M[filtro]+e.*sin.(E[filtro]);\n",
    "    Error=abs.(E[filtro]-E1);\n",
    "    delta=maximum(Error);\n",
    "    E[filtro]=E1;\n",
    "    filtro=filtro[Error.>tol];\n",
    "end\n",
    "return E\n",
    "\n",
    "\n",
    "\n",
    "end"
   ]
  },
  {
   "cell_type": "markdown",
   "metadata": {},
   "source": [
    "<h4> smooth.jl <h4>"
   ]
  },
  {
   "cell_type": "code",
   "execution_count": 3,
   "metadata": {},
   "outputs": [
    {
     "data": {
      "text/plain": [
       "smooth (generic function with 3 methods)"
      ]
     },
     "execution_count": 3,
     "metadata": {},
     "output_type": "execute_result"
    }
   ],
   "source": [
    "using DSP\n",
    "function smooth(y, win_len=11, win_method=2)\n",
    "# This function requires the DSP package to be installed\n",
    "# 1: flat\n",
    "# 2: hanning\n",
    "# 3: hamming ...\n",
    "if win_len%2==0\n",
    "  win_len+=1 # only use odd numbers\n",
    "end\n",
    "if win_method == 1\n",
    "  w=ones(win_len)\n",
    "elseif win_method==2\n",
    "  w=DSP.hanning(win_len)\n",
    "elseif win_method==3\n",
    "  w=DSP.hamming(win_len)\n",
    "end\n",
    "\n",
    "if win_len<3\n",
    "  return y\n",
    "elseif length(y)<win_len\n",
    "  return y\n",
    "else\n",
    "        y_new = [2*y[1]-flipdim(y[1:win_len],1); y[:]; 2*y[end]-flipdim(y[end-win_len:end],1)]\n",
    "  y_smooth = conv(y_new, w/sum(w))\n",
    "  ind = floor(Int, 1.5*win_len)\n",
    "  return y_smooth[1+ind:end-ind-1]\n",
    "end\n",
    "\n",
    "end"
   ]
  },
  {
   "cell_type": "markdown",
   "metadata": {},
   "source": [
    "<h4> HallaMasas <h4>"
   ]
  },
  {
   "cell_type": "code",
   "execution_count": 4,
   "metadata": {},
   "outputs": [
    {
     "data": {
      "text/plain": [
       "ColinealInv (generic function with 1 method)"
      ]
     },
     "execution_count": 4,
     "metadata": {},
     "output_type": "execute_result"
    }
   ],
   "source": [
    "function ColinealInv(x)\n",
    "  #x vector fila de posiciones\n",
    "  l=size(x)[2]\n",
    "  D=ones(l,1)*x\n",
    "  C=D-D'\n",
    "  A=((abs.(C)).^(-3)).*C\n",
    "  for i=1:l\n",
    "    A[i,i]=0\n",
    "  end\n",
    "  return A\\(-x')\n",
    "end"
   ]
  },
  {
   "cell_type": "markdown",
   "metadata": {},
   "source": [
    "<h4> Función resolvente de la EDO <h4>"
   ]
  },
  {
   "cell_type": "code",
   "execution_count": 5,
   "metadata": {},
   "outputs": [
    {
     "data": {
      "text/plain": [
       "SolveSit (generic function with 1 method)"
      ]
     },
     "execution_count": 5,
     "metadata": {},
     "output_type": "execute_result"
    }
   ],
   "source": [
    "e=0.1\n",
    "x₁=0.6\n",
    "y₁=0.4\n",
    "m=ColinealInv([-1 -x₁ -x₁*y₁ x₁*y₁ x₁ 1])[4:6]\n",
    "s=[x₁*y₁ x₁ 1]\n",
    "#include(\"Solve2body.jl\")\n",
    "        \n",
    "r,T=Func_r(e);\n",
    "        \n",
    "\n",
    "function Fuerza3c(du,u,p,t)\n",
    "    m=p[1]\n",
    "    s=p[2]\n",
    "    r=p[3]\n",
    "    R = (r(t)^2*s.^2 +u[1]^2).^(1.5)\n",
    "    du[1] = u[2]\n",
    "    du[2] = -2*sum(m./R*u[1])\n",
    "end\n",
    "\n",
    "t₀=0.0\n",
    "\n",
    "alg=Vern9()\n",
    "\n",
    "function SolveSit(u0,tspan)\n",
    "    prob_ode_trescuerpos = ODEProblem(Fuerza3c,u0,tspan,[m,s,r]);\n",
    "    sol = solve(prob_ode_trescuerpos,alg,dt=1e-3,abstol = 1e-12, reltol = 1e-12);\n",
    "    return sol\n",
    "end"
   ]
  },
  {
   "cell_type": "code",
   "execution_count": 6,
   "metadata": {},
   "outputs": [
    {
     "data": {
      "text/plain": [
       "g (generic function with 1 method)"
      ]
     },
     "execution_count": 6,
     "metadata": {},
     "output_type": "execute_result"
    }
   ],
   "source": [
    "tspan=(0.0,10.0)\n",
    "u0=[2.04,0.0]\n",
    "soll=SolveSit(u0,tspan)\n",
    "g(t)=sol(t)[1]"
   ]
  },
  {
   "cell_type": "markdown",
   "metadata": {},
   "source": [
    "<h2> Requisitos (FINAL) <h2>"
   ]
  },
  {
   "cell_type": "markdown",
   "metadata": {},
   "source": [
    "<h4> Graficamos el diagrama de fases <h4>"
   ]
  },
  {
   "cell_type": "code",
   "execution_count": 7,
   "metadata": {},
   "outputs": [
    {
     "data": {
      "image/png": "[encoded data removed]",
      "text/plain": [
       "PyPlot.Figure(PyObject <Figure size 640x480 with 1 Axes>)"
      ]
     },
     "metadata": {},
     "output_type": "display_data"
    },
    {
     "data": {
      "text/plain": [
       "(-0.25, 0.25)"
      ]
     },
     "execution_count": 7,
     "metadata": {},
     "output_type": "execute_result"
    }
   ],
   "source": [
    "#CARGAMOS EL ARCHIVO QUE QUEREMOS\n",
    "B=load(\"DiffEq_Datos_e_0.1algOrdinaryDiffEq.Vern9()pos_ini(0.6, 0.4).jld\")\n",
    "\n",
    "\n",
    "#RECOGEMOS LOS DATOS DEL ARCHIVO\n",
    "\n",
    "nn=size(B[\"z\"])[1]# Cantidad de fotos sacadas\n",
    "alturas=size(B[\"z\"])[2] # Cantidad de posiciones iniciales\n",
    "z=B[\"z\"]\n",
    "v=B[\"v\"]\n",
    "e=B[\"e\"] # exentricidad\n",
    "x₁=B[\"posini\"][1]\n",
    "y₁=B[\"posini\"][2]\n",
    "print(size(nn))\n",
    "\n",
    "#HACEMOS LA GRÁFICA\n",
    "\n",
    "fig, ax=subplots()\n",
    "xlabel(L\"z\")\n",
    "ylabel(L\"V\")\n",
    "title(L\"x₁=\"*string(x₁)*\",\"L\"y₁=\"*string(y₁)*\",\"*L\"e=\"*string(e))\n",
    "xlim(-6,6)\n",
    "ylim(-4,4)\n",
    "\n",
    "for i ∈ range(1,alturas)\n",
    "    zz=z[:,i]\n",
    "    vv=v[:,i]\n",
    "    ax[:scatter](zz,vv,s=1)\n",
    "end\n",
    "xlim(2.03,2.06)\n",
    "ylim(-0.25,0.25)"
   ]
  },
  {
   "cell_type": "markdown",
   "metadata": {},
   "source": [
    " FFT análisis en resonancia 1:1, punto \n",
    "\n",
    "$u_0=(2.466,0)$\n",
    "Vamos a calcular la transformada discreta de fourier en el intervalo $[0,400T]$, en genral a veces en otros intervalos. Vamos a generar una muestra de $N=20\\times 400+1$ puntos en ese intervalo. Por ende $N$ será el orden de la serie tringonomérica involucrada. Los coeficientes del desarrollo se calcula con la transformada rápida y=fft(z), donde $y[n]=\\alpha_{n-1}-\\beta_{n-1}i$ y\n",
    "$$z(t)\\sim\\frac{1}{N}\\left[ \\alpha_0+2\\sum_{n=1}^{4000}\\alpha_{n}\\cos\\left(\\frac{2\\pi nt_j}{400T}\\right)+\\beta_n\\sin\\left(\\frac{2\\pi nt_j}{400T}\\right)   \\right]=\n",
    "\\frac{1}{N}\\left[ \\alpha_0+2\\sum_{n=1}^{4000}\\alpha_{n}\\cos\\left(\\frac{2\\pi \\nu_nt_j}{T}\\right)+\\beta_n\\sin\\left(\\frac{2\\pi \\nu_nt_j}{T}\\right)   \\right],$$\n",
    "donde $\\nu_n=\\frac{n}{400}$. Estas frecuencias estan normalizadas para que $\\nu=1$ corresponda a periodo $T$. Hemos dividido el espacio de frecuencias en saltos de 1/400=0.0025 y van de 0 a 10. Podemos captar componentes periódicas desde periodos de $400T$ a $T/10$."
   ]
  },
  {
   "cell_type": "code",
   "execution_count": 8,
   "metadata": {},
   "outputs": [
    {
     "data": {
      "image/png": "[encoded data removed]",
      "text/plain": [
       "PyPlot.Figure(PyObject <Figure size 640x480 with 1 Axes>)"
      ]
     },
     "metadata": {},
     "output_type": "display_data"
    },
    {
     "data": {
      "text/plain": [
       "(-0.05, 0.05)"
      ]
     },
     "execution_count": 8,
     "metadata": {},
     "output_type": "execute_result"
    },
    {
     "name": "stdout",
     "output_type": "stream",
     "text": [
      "()"
     ]
    }
   ],
   "source": [
    "fig, ax=subplots()\n",
    "#pygui(true)\n",
    "for i ∈ range(1,alturas)\n",
    "    zz=z[:,i]\n",
    "    vv=v[:,i]\n",
    "    ax[:scatter](zz,vv,s=1)\n",
    "end\n",
    "xlim(2.03998,2.04)\n",
    "ylim(-0.05,0.05)"
   ]
  },
  {
   "cell_type": "code",
   "execution_count": 9,
   "metadata": {},
   "outputs": [
    {
     "data": {
      "text/plain": [
       "(2.04, 0)"
      ]
     },
     "execution_count": 9,
     "metadata": {},
     "output_type": "execute_result"
    }
   ],
   "source": [
    "u0=(2.04,0)"
   ]
  },
  {
   "cell_type": "code",
   "execution_count": 10,
   "metadata": {},
   "outputs": [
    {
     "data": {
      "text/html": [
       "1001"
      ],
      "text/plain": [
       "1001"
      ]
     },
     "execution_count": 10,
     "metadata": {},
     "output_type": "execute_result"
    }
   ],
   "source": [
    "CantPer=nn\n",
    "T_1=CantPer*T\n",
    "tspan=(0,T_1)\n",
    "u0=[2.04,0.0]\n",
    "sol=SolveSit(u0,tspan)\n",
    "g(t)=sol(t)[1]\n",
    "nn"
   ]
  },
  {
   "cell_type": "code",
   "execution_count": 11,
   "metadata": {},
   "outputs": [
    {
     "data": {
      "image/png": "[encoded data removed]",
      "text/plain": [
       "PyPlot.Figure(PyObject <Figure size 640x480 with 1 Axes>)"
      ]
     },
     "metadata": {},
     "output_type": "display_data"
    },
    {
     "data": {
      "text/plain": [
       "(0, 5000)"
      ]
     },
     "execution_count": 11,
     "metadata": {},
     "output_type": "execute_result"
    }
   ],
   "source": [
    "t=linspace(0,T_1,20*CantPer+1);\n",
    "z=g.(t);\n",
    "y=fft(z)\n",
    "Y=abs.(y);\n",
    "j=0:length(Y)-1\n",
    "#pygui(true)\n",
    "#pygui(false)\n",
    "plot(j/CantPer,Y)\n",
    "#xlim(0,3)\n",
    "ylim(0,5000)"
   ]
  },
  {
   "cell_type": "code",
   "execution_count": null,
   "metadata": {},
   "outputs": [],
   "source": []
  },
  {
   "cell_type": "markdown",
   "metadata": {},
   "source": [
    "<h1> Prueba del método \"Análisis de frecuencia\"  <h1>"
   ]
  },
  {
   "cell_type": "code",
   "execution_count": 30,
   "metadata": {},
   "outputs": [
    {
     "data": {
      "image/png": "[encoded data removed]",
      "text/plain": [
       "PyPlot.Figure(PyObject <Figure size 640x480 with 1 Axes>)"
      ]
     },
     "metadata": {},
     "output_type": "display_data"
    },
    {
     "data": {
      "text/plain": [
       "(0, 5.0505)"
      ]
     },
     "execution_count": 30,
     "metadata": {},
     "output_type": "execute_result"
    }
   ],
   "source": [
    "f1(t)=2*cos(sqrt(3)*t)+3*sin(4*t)+cos(sqrt(2)*t)\n",
    "g(t)=exp.(im*t)\n",
    "L=1000\n",
    "precicion=10101\n",
    "t=linspace(-π*L,π*L,precicion);\n",
    "zz=f1.(t)\n",
    "yy=fft(zz)\n",
    "YY=abs.(yy);\n",
    "j=0:length(YY)-1\n",
    "#pygui(true)\n",
    "#pygui(false)\n",
    "plot(j/(L),YY)\n",
    "xlim(0,precicion/(L)/2)\n",
    "\n"
   ]
  },
  {
   "cell_type": "code",
   "execution_count": 111,
   "metadata": {},
   "outputs": [
    {
     "data": {
      "text/plain": [
       "10000-element Array{Float64,1}:\n",
       " 4.589  \n",
       " 4.589  \n",
       " 4.58901\n",
       " 4.58902\n",
       " 4.58903\n",
       " 4.58905\n",
       " 4.58907\n",
       " 4.58909\n",
       " 4.58912\n",
       " 4.58915\n",
       " 4.58918\n",
       " 4.58922\n",
       " 4.58926\n",
       " ⋮      \n",
       " 4.58926\n",
       " 4.58922\n",
       " 4.58918\n",
       " 4.58915\n",
       " 4.58912\n",
       " 4.58909\n",
       " 4.58907\n",
       " 4.58905\n",
       " 4.58903\n",
       " 4.58902\n",
       " 4.58901\n",
       " 4.589  "
      ]
     },
     "execution_count": 111,
     "metadata": {},
     "output_type": "execute_result"
    }
   ],
   "source": [
    "\n",
    "function prodescalar(t::Float64)\n",
    "end\n"
   ]
  }
 ],
 "metadata": {
  "kernelspec": {
   "display_name": "Julia 0.6.2",
   "language": "julia",
   "name": "julia-0.6"
  },
  "language_info": {
   "file_extension": ".jl",
   "mimetype": "application/julia",
   "name": "julia",
   "version": "0.6.2"
  }
 },
 "nbformat": 4,
 "nbformat_minor": 2
}
