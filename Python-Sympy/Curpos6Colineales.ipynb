{
 "cells": [
  {
   "cell_type": "code",
   "execution_count": 34,
   "metadata": {},
   "outputs": [],
   "source": [
    "from sympy import *\n",
    "init_printing()"
   ]
  },
  {
   "cell_type": "code",
   "execution_count": 55,
   "metadata": {},
   "outputs": [],
   "source": [
    "n=6\n",
    "a,b=symbols('a,b')\n",
    "x=-1,-a,-b,b,a,1\n",
    "A=zeros(6)\n",
    "for i in range(n):\n",
    "    for j in range(n):\n",
    "        if i<j:\n",
    "            A[i,j]=(x[j]-x[i])**(-2)\n",
    "A=A-A.transpose()\n",
    "m=symbols('m:3')\n",
    "m=m[0],m[1],m[2],m[2],m[1],m[0]\n",
    "mv=Matrix(m)\n",
    "#solve(A[0:3,:]*mv+Matrix([-1,-a,-b]),mv)\n",
    "L=[(A[0:3,:]*mv+Matrix([-1,-a,-b]))[k].collect(m[0]).collect(m[1]).collect(m[2]) for k in range(3)]"
   ]
  },
  {
   "cell_type": "code",
   "execution_count": 58,
   "metadata": {},
   "outputs": [],
   "source": [
    "sol=solve(L,m)\n"
   ]
  },
  {
   "cell_type": "code",
   "execution_count": 65,
   "metadata": {},
   "outputs": [
    {
     "data": {
      "image/png": "[encoded data removed]",
      "text/latex": [
       "$$-0.00560277576794556$$"
      ],
      "text/plain": [
       "-0.00560277576794556"
      ]
     },
     "execution_count": 65,
     "metadata": {},
     "output_type": "execute_result"
    }
   ],
   "source": [
    "sol[m[0]].subs({a:.9,b:0.29})"
   ]
  },
  {
   "cell_type": "code",
   "execution_count": null,
   "metadata": {},
   "outputs": [],
   "source": [
    "print(sol)"
   ]
  }
 ],
 "metadata": {
  "kernelspec": {
   "display_name": "Python 2",
   "language": "python",
   "name": "python2"
  },
  "language_info": {
   "codemirror_mode": {
    "name": "ipython",
    "version": 2
   },
   "file_extension": ".py",
   "mimetype": "text/x-python",
   "name": "python",
   "nbconvert_exporter": "python",
   "pygments_lexer": "ipython2",
   "version": "2.7.14"
  }
 },
 "nbformat": 4,
 "nbformat_minor": 2
}
